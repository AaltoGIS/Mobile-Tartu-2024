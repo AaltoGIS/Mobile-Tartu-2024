{
 "cells": [
  {
   "cell_type": "markdown",
   "id": "fc2ca70d-3ea8-4440-b5fc-24ef27660484",
   "metadata": {},
   "source": [
    "# Preliminaries: Data, Python environment, and Jupyter notebook"
   ]
  },
  {
   "cell_type": "markdown",
   "id": "ae18b7ff",
   "metadata": {},
   "source": [
    "## Introduction\n",
    "\n",
    "```{admonition} Credits:\n",
    "\n",
    "This tutorial was written by Henrikki Tenkanen, Christoph Fink & Willem Klumpenhouwer (i.e. `r5py` developer team).\n",
    "You can read the [full documentation of `r5py`](https://r5py.readthedocs.io/en/latest/user-guide/user-manual/advanced-use.html#use-a-custom-installation-of-r5) which includes much more information and detailed user manual in case you are interested in using the library for research purposes.\n",
    "\n",
    "```\n",
    "### Getting started\n",
    "\n",
    "There are basically three options to run the codes in this tutorial:\n",
    "\n",
    "1. Copy-Paste the codes from the website and run the codes line-by-line on your own computer with your preferred IDE (Jupyter Lab, Spyder, PyCharm etc.).\n",
    "2. Download this Notebook (see below) and run it using Jupyter Lab which you should have installed by following the [installation instructions](https://otesama2023.readthedocs.io/en/latest/info/installing-miniconda.html).\n",
    "3. Run the codes using Binder (see below) which is the easiest way, but has very limited computational resources (i.e. can be very slow).\n",
    "\n",
    "\n",
    "### Download the Notebook\n",
    "\n",
    "You can download this tutorial Notebook to your own computer by clicking the **Download button** from the Menu on the top-right section of the website. \n",
    "\n",
    "- Right-click the option that says `.ipynb` and choose **\"Save link as ..\"**\n",
    "\n",
    "![Download tutorial Notebook.](img/Download_notebook_button.png)\n",
    "\n",
    "### Run the codes on your own computer\n",
    "\n",
    "Before you can run this Notebook, and/or do any programming, you need to launch the Jupyter Lab programming environment. The JupyterLab comes with the environment that you installed earlier (if you have not done this yet, follow the [installation instructions](https://otesama2023.readthedocs.io/en/latest/info/installing-miniconda.html)). To run the JupyterLab:\n",
    "\n",
    "1. Using terminal/command prompt, navigate to the folder where you have downloaded the Jupyter Notebook tutorial: `$ cd /mydirectory/`\n",
    "2. Activate the programming environment: `$ conda activate geo`\n",
    "3. Launch the JupyterLab: `$ jupyter lab`\n",
    "\n",
    "After these steps, the JupyterLab interface should open, and you can start executing cells (see hints below at \"Working with Jupyter Notebooks\").\n",
    "\n",
    "#### Alternatively: Run codes in Binder (with limited resources)\n",
    "\n",
    "Alternatively (not recommended due to limited computational resources), you can run this Notebook by launching a Binder instance. You can find buttons for activating the python environment at the top-right of this page which look like this:\n",
    "\n",
    "![Launch Binder](img/launch_binder.png)\n",
    "\n",
    "### Working with Jupyter Notebooks\n",
    "\n",
    "Jupyter Notebooks are documents that can be used and run inside the JupyterLab programming environment containing the computer code and rich text elements (such as text, figures, tables, and links). \n",
    "\n",
    "**A couple of hints**:\n",
    "\n",
    "- You can **execute a cell** by clicking a given cell that you want to run and pressing <kbd>Shift</kbd> + <kbd>Enter</kbd> (or by clicking the \"Play\" button on top)\n",
    "- You can **change the cell-type** between `Markdown` (for writing text) and `Code` (for writing/executing code) from the dropdown menu above. \n",
    "\n",
    "See **further details and help for** [**using Notebooks and JupyterLab from here**](https://pythongis.org/part1/chapter-01/nb/04-using-jupyterlab.html). \n",
    "\n",
    "**Lesson objectives**\n",
    "\n",
    "This tutorial focuses on how to work with various geospatial data to construct a **spatial networks** and learn how to construct a routable **directed** graph for Networkx and find shortest paths along the given street network based on travel times or distance by car using **R5py**.  In addition, we will learn about the relevant data to calculate GHG emissions for different travel modes of commutating among multiple origin-destination zones simultaneously.  "
   ]
  },
  {
   "cell_type": "markdown",
   "id": "ca7f0d87",
   "metadata": {},
   "source": [
    "## Data requirements\n",
    "**to discuss -- Describe types of data use here, (i) Networkx (ii) R5py (iii) Locomizer (iv) H3 **\n",
    "\n",
    "### Data for creating a routable network\n",
    "**R5py** is a Python library for routing and calculating travel time matrices on multimodal transport networks (walk, bike, public transport and car).\n",
    "It provides a simple and friendly interface to R<sup>5</sup> (*the Rapid Realistic Routing on Real-world and Reimagined networks*) which is a [routing engine](https://github.com/conveyal/r5) developed by [Conveyal](https://conveyal.com/). `R5py` is designed to interact with [GeoPandas](https://geopandas.org) GeoDataFrames, and it is inspired by [r5r](https://ipeagit.github.io/r5r) which is a similar wrapper developed for R. `R5py` exposes some of R5’s functionality via its [Python API](reference.html), in a syntax similar to r5r’s. At the time of this writing, only the computation of travel time matrices has been fully implemented. Over time, `r5py` will be expanded to incorporate other functionalities from R5.\n",
    "When calculating travel times with `r5py`, you typically need a couple of datasets: \n",
    "\n",
    "- **A road network dataset from OpenStreetMap** (OSM) in Protocolbuffer Binary (`.pbf`) -format: \n",
    "  - This data is used for finding the fastest routes and calculating the travel times based on walking, cycling and driving. In addition, this data is used for walking/cycling legs between stops when routing with transit. \n",
    "  - *Hint*: Sometimes you might need modify the OSM data beforehand, e.g. by cropping the data or adding special costs for travelling (e.g. for considering slope when cycling/walking). When doing this, you should follow the instructions at [Conveyal website](https://docs.conveyal.com/prepare-inputs#preparing-the-osm-data). For adding customized costs for pedestrian and cycling analyses, see [this repository](https://github.com/RSGInc/ladot_analysis_dataprep).\n",
    "\n",
    "- **A transit schedule dataset** in General Transit Feed Specification (GTFS.zip) -format (optional):\n",
    "   - This data contains all the necessary information for calculating travel times based on public transport, such as stops, routes, trips and the schedules when the vehicles are passing a specific stop. You can read about [GTFS standard from here](https://developers.google.com/transit/gtfs/reference).\n",
    "   - *Hint*: `r5py` can also combine multiple GTFS files, as sometimes you might have different GTFS feeds representing e.g. the bus and metro connections. \n",
    "\n",
    "\n",
    "### Data for origin and destination locations (Locomizer and H3)\n",
    "\n",
    "In addition to OSM and GTFS datasets, you need data that represents the origin and destination locations (OD-data) for routings. This data is typically stored in one of the geospatial data formats, such as Shapefile, GeoJSON or GeoPackage. As `r5py` is build on top of `geopandas`, it is easy to read OD-data from various different data formats. \n",
    "\n",
    "\n",
    "### Where to get these datasets?\n",
    "\n",
    "Here are a few places from where you can download the datasets for creating the routable network:\n",
    "\n",
    "- **OpenStreetMap data in PBF-format**:\n",
    "\n",
    "  - [pyrosm](https://pyrosm.readthedocs.io/en/latest/basics.html#protobuf-file-what-is-it-and-how-to-get-one)  -library. Allows downloading data directly from Python (based on GeoFabrik and BBBike).\n",
    "  - [pydriosm](https://pydriosm.readthedocs.io/en/latest/quick-start.html#download-data) -library. Allows downloading data directly from Python (based on GeoFabrik and BBBike).\n",
    "  - [GeoFabrik](http://download.geofabrik.de/) -website. Has data extracts for many pre-defined areas (countries, regions, etc).\n",
    "  - [BBBike](https://download.bbbike.org/osm/bbbike/) -website. Has data extracts readily available for many cities across the world. Also supports downloading data by [specifying your own area or interest](https://extract.bbbike.org/).\n",
    "  - [Protomaps](https://protomaps.com/downloads/osm) -website. Allows to download the data with custom extent by specifying your own area of interest.\n",
    "\n",
    "\n",
    "- **GTFS data**:  \n",
    "  - [Transitfeeds](https://transitfeeds.com/) -website. Easy to navigate and find GTFS data for different countries and cities. Includes current and historical GTFS data. Notice: The site will be depracated in the future.  \n",
    "  - [Mobility Database](https://database.mobilitydata.org) -website. Will eventually replace TransitFeeds -website. \n",
    "  - [Transitland](https://www.transit.land/operators) -website. Find data based on country, operator or feed name. Includes current and historical GTFS data.\n",
    "    \n",
    "### Data for GHG emission factors\n",
    "\n",
    "\n",
    "The [International Transport Forum (ITF)](https://www.itf-oecd.org/) has developed a comprehensive life-cycle analysis [Excel-based tool](data/life-cycle-assessment-calculations-2020.xlsx) of urban transport modes including new mobility services, such as shared vehicles and ridesourcing. The Excel-based tool (provide the link?) includes calculations and assumptions made for the ITF report titled as \"Good to go? Assessing the environmental performance of new mobility in cities\". \n",
    "- **Sources**:\n",
    "    - Cazzola, P. and Crist, P., 2020. [Good to go? Assessing the environmental performance of new mobility](https://www.itf-oecd.org/good-go-assessing-environmental-performance-new-mobility)\n",
    "    - [The electricity generation mix of Finland in 2020.](https://www.iea.org/countries/finland)\n",
    "\n",
    "From these sources, a CSV file named [\"LCA_gCO2_per_pkm_by_transport_mode.csv\"](data/LCA_gCO2_per_pkm_by_transport_mode.csv) is created, consisting of GHG emissions per passenger-kilometer (g CO<sub>2</sub>/pkm) by transport modes derived from the mentioned LCA tool by ITF. The columns represent the different transport modes and the rows represent the GHG emissions. The GHG emissions of the transport modes have been divided into four separate components: vehicle component, fuel component, infrastructure component and operational services. The explanations of the acronyms (in the transport modes names) are: BEV = battery electric vehicle; HEV = hybrid electric vehicle; ICE = internal combustion engine; FCEV = fuel cell electric vehicle; PHEV = plug-in hybrid electric vehicle. \n",
    "### Sample datasets\n",
    "\n",
    "In the following tutorial, we use various open source datasets:\n",
    "- The point dataset for Helsinki has been obtained from [Helsinki Region Environmental Services](https://www.hsy.fi/en/environmental-information/open-data/avoin-data---sivut/population-grid-of-helsinki-metropolitan-area/) (HSY) licensed under a Creative Commons By Attribution 4.0. \n",
    "- The street network for Helsinki is a cropped and filtered extract of OpenStreetMap (© OpenStreetMap contributors, [ODbL license](https://www.openstreetmap.org/copyright))\n",
    "- The GTFS transport schedule dataset for Helsinki is a cropped and minimised copy of Helsingin seudun liikenne’s (HSL) open dataset [Creative Commons BY 4.0](https://www.hsl.fi/hsl/avoin-data#aineistojen-kayttoehdot)."
   ]
  },
  {
   "cell_type": "code",
   "execution_count": 1,
   "id": "a65c3683",
   "metadata": {
    "tags": [
     "remove-input",
     "remove-output"
    ]
   },
   "outputs": [],
   "source": [
    "# this cell is hidden from output\n",
    "# it’s used to set sys.path to point to the local repo,\n",
    "# and to define a `DATA_DIRECTORY` pathlib.Path\n",
    "import pathlib\n",
    "import sys\n",
    "\n",
    "NOTEBOOK_DIRECTORY = pathlib.Path().resolve()\n",
    "DOCS_DIRECTORY = NOTEBOOK_DIRECTORY.parent.parent\n",
    "DATA_DIRECTORY = DOCS_DIRECTORY / \"_static\" / \"data\"\n",
    "R5PY_DIRECTORY = DOCS_DIRECTORY.parent / \"src\"\n",
    "sys.path.insert(0, str(R5PY_DIRECTORY))"
   ]
  },
  {
   "cell_type": "markdown",
   "id": "223ec8e8-4c6d-41cf-bcd1-3c3a11c3c4f4",
   "metadata": {},
   "source": [
    "## Introduction to H3 Hexagonal Hierarchical Geospatial Indexing System\n",
    "\n",
    "In this tutorial, first, we will learn how to work with Uber's H3 Hexagonal Hierarchical Geospatial Indexing System in Python. We will utilize the geographical data around the city center area of Helsinki, Finland. **to discuss - a brief demonstration is provided on the quick utilization of H3 data, visualization, and utilization with Locomizer data.**\n"
   ]
  },
  {
   "cell_type": "code",
   "execution_count": 2,
   "id": "414e73de-47fc-427a-b6af-dfdc5101b868",
   "metadata": {
    "scrolled": true
   },
   "outputs": [
    {
     "data": {
      "text/html": [
       "<div style=\"width:100%;\"><div style=\"position:relative;width:100%;height:0;padding-bottom:60%;\"><span style=\"color:#565656\">Make this Notebook Trusted to load map: File -> Trust Notebook</span><iframe srcdoc=\"&lt;!DOCTYPE html&gt;\n",
       "&lt;html&gt;\n",
       "&lt;head&gt;\n",
       "    \n",
       "    &lt;meta http-equiv=&quot;content-type&quot; content=&quot;text/html; charset=UTF-8&quot; /&gt;\n",
       "    \n",
       "        &lt;script&gt;\n",
       "            L_NO_TOUCH = false;\n",
       "            L_DISABLE_3D = false;\n",
       "        &lt;/script&gt;\n",
       "    \n",
       "    &lt;style&gt;html, body {width: 100%;height: 100%;margin: 0;padding: 0;}&lt;/style&gt;\n",
       "    &lt;style&gt;#map {position:absolute;top:0;bottom:0;right:0;left:0;}&lt;/style&gt;\n",
       "    &lt;script src=&quot;https://cdn.jsdelivr.net/npm/leaflet@1.9.3/dist/leaflet.js&quot;&gt;&lt;/script&gt;\n",
       "    &lt;script src=&quot;https://code.jquery.com/jquery-3.7.1.min.js&quot;&gt;&lt;/script&gt;\n",
       "    &lt;script src=&quot;https://cdn.jsdelivr.net/npm/bootstrap@5.2.2/dist/js/bootstrap.bundle.min.js&quot;&gt;&lt;/script&gt;\n",
       "    &lt;script src=&quot;https://cdnjs.cloudflare.com/ajax/libs/Leaflet.awesome-markers/2.0.2/leaflet.awesome-markers.js&quot;&gt;&lt;/script&gt;\n",
       "    &lt;link rel=&quot;stylesheet&quot; href=&quot;https://cdn.jsdelivr.net/npm/leaflet@1.9.3/dist/leaflet.css&quot;/&gt;\n",
       "    &lt;link rel=&quot;stylesheet&quot; href=&quot;https://cdn.jsdelivr.net/npm/bootstrap@5.2.2/dist/css/bootstrap.min.css&quot;/&gt;\n",
       "    &lt;link rel=&quot;stylesheet&quot; href=&quot;https://netdna.bootstrapcdn.com/bootstrap/3.0.0/css/bootstrap.min.css&quot;/&gt;\n",
       "    &lt;link rel=&quot;stylesheet&quot; href=&quot;https://cdn.jsdelivr.net/npm/@fortawesome/fontawesome-free@6.2.0/css/all.min.css&quot;/&gt;\n",
       "    &lt;link rel=&quot;stylesheet&quot; href=&quot;https://cdnjs.cloudflare.com/ajax/libs/Leaflet.awesome-markers/2.0.2/leaflet.awesome-markers.css&quot;/&gt;\n",
       "    &lt;link rel=&quot;stylesheet&quot; href=&quot;https://cdn.jsdelivr.net/gh/python-visualization/folium/folium/templates/leaflet.awesome.rotate.min.css&quot;/&gt;\n",
       "    \n",
       "            &lt;meta name=&quot;viewport&quot; content=&quot;width=device-width,\n",
       "                initial-scale=1.0, maximum-scale=1.0, user-scalable=no&quot; /&gt;\n",
       "            &lt;style&gt;\n",
       "                #map_fa50f3bc4c6cc73b3701323fb813c140 {\n",
       "                    position: relative;\n",
       "                    width: 100.0%;\n",
       "                    height: 100.0%;\n",
       "                    left: 0.0%;\n",
       "                    top: 0.0%;\n",
       "                }\n",
       "                .leaflet-container { font-size: 1rem; }\n",
       "            &lt;/style&gt;\n",
       "        \n",
       "    \n",
       "                    &lt;style&gt;\n",
       "                        .foliumtooltip {\n",
       "                            \n",
       "                        }\n",
       "                       .foliumtooltip table{\n",
       "                            margin: auto;\n",
       "                        }\n",
       "                        .foliumtooltip tr{\n",
       "                            text-align: left;\n",
       "                        }\n",
       "                        .foliumtooltip th{\n",
       "                            padding: 2px; padding-right: 8px;\n",
       "                        }\n",
       "                    &lt;/style&gt;\n",
       "            \n",
       "&lt;/head&gt;\n",
       "&lt;body&gt;\n",
       "    \n",
       "    \n",
       "            &lt;div class=&quot;folium-map&quot; id=&quot;map_fa50f3bc4c6cc73b3701323fb813c140&quot; &gt;&lt;/div&gt;\n",
       "        \n",
       "&lt;/body&gt;\n",
       "&lt;script&gt;\n",
       "    \n",
       "    \n",
       "            var map_fa50f3bc4c6cc73b3701323fb813c140 = L.map(\n",
       "                &quot;map_fa50f3bc4c6cc73b3701323fb813c140&quot;,\n",
       "                {\n",
       "                    center: [60.1658562, 24.9379961],\n",
       "                    crs: L.CRS.EPSG3857,\n",
       "                    zoom: 10,\n",
       "                    zoomControl: true,\n",
       "                    preferCanvas: false,\n",
       "                }\n",
       "            );\n",
       "            L.control.scale().addTo(map_fa50f3bc4c6cc73b3701323fb813c140);\n",
       "\n",
       "            \n",
       "\n",
       "        \n",
       "    \n",
       "            var tile_layer_da46eafbcf2813c957700e4ee83caed5 = L.tileLayer(\n",
       "                &quot;https://tile.openstreetmap.org/{z}/{x}/{y}.png&quot;,\n",
       "                {&quot;attribution&quot;: &quot;\\u0026copy; \\u003ca href=\\&quot;https://www.openstreetmap.org/copyright\\&quot;\\u003eOpenStreetMap\\u003c/a\\u003e contributors&quot;, &quot;detectRetina&quot;: false, &quot;maxNativeZoom&quot;: 19, &quot;maxZoom&quot;: 19, &quot;minZoom&quot;: 0, &quot;noWrap&quot;: false, &quot;opacity&quot;: 1, &quot;subdomains&quot;: &quot;abc&quot;, &quot;tms&quot;: false}\n",
       "            );\n",
       "        \n",
       "    \n",
       "            tile_layer_da46eafbcf2813c957700e4ee83caed5.addTo(map_fa50f3bc4c6cc73b3701323fb813c140);\n",
       "        \n",
       "    \n",
       "            map_fa50f3bc4c6cc73b3701323fb813c140.fitBounds(\n",
       "                [[60.1658562, 24.9379961], [60.1658562, 24.9379961]],\n",
       "                {}\n",
       "            );\n",
       "        \n",
       "    \n",
       "        function geo_json_4892973013e9933e6f82393f56dfa94a_styler(feature) {\n",
       "            switch(feature.id) {\n",
       "                default:\n",
       "                    return {&quot;color&quot;: &quot;red&quot;, &quot;fillColor&quot;: &quot;red&quot;, &quot;fillOpacity&quot;: 0.5, &quot;weight&quot;: 2};\n",
       "            }\n",
       "        }\n",
       "        function geo_json_4892973013e9933e6f82393f56dfa94a_highlighter(feature) {\n",
       "            switch(feature.id) {\n",
       "                default:\n",
       "                    return {&quot;fillOpacity&quot;: 0.75};\n",
       "            }\n",
       "        }\n",
       "        function geo_json_4892973013e9933e6f82393f56dfa94a_pointToLayer(feature, latlng) {\n",
       "            var opts = {&quot;bubblingMouseEvents&quot;: true, &quot;color&quot;: &quot;#3388ff&quot;, &quot;dashArray&quot;: null, &quot;dashOffset&quot;: null, &quot;fill&quot;: true, &quot;fillColor&quot;: &quot;#3388ff&quot;, &quot;fillOpacity&quot;: 0.2, &quot;fillRule&quot;: &quot;evenodd&quot;, &quot;lineCap&quot;: &quot;round&quot;, &quot;lineJoin&quot;: &quot;round&quot;, &quot;opacity&quot;: 1.0, &quot;radius&quot;: 12, &quot;stroke&quot;: true, &quot;weight&quot;: 3};\n",
       "            \n",
       "            let style = geo_json_4892973013e9933e6f82393f56dfa94a_styler(feature)\n",
       "            Object.assign(opts, style)\n",
       "            \n",
       "            return new L.CircleMarker(latlng, opts)\n",
       "        }\n",
       "\n",
       "        function geo_json_4892973013e9933e6f82393f56dfa94a_onEachFeature(feature, layer) {\n",
       "            layer.on({\n",
       "                mouseout: function(e) {\n",
       "                    if(typeof e.target.setStyle === &quot;function&quot;){\n",
       "                        geo_json_4892973013e9933e6f82393f56dfa94a.resetStyle(e.target);\n",
       "                    }\n",
       "                },\n",
       "                mouseover: function(e) {\n",
       "                    if(typeof e.target.setStyle === &quot;function&quot;){\n",
       "                        const highlightStyle = geo_json_4892973013e9933e6f82393f56dfa94a_highlighter(e.target.feature)\n",
       "                        e.target.setStyle(highlightStyle);\n",
       "                    }\n",
       "                },\n",
       "            });\n",
       "        };\n",
       "        var geo_json_4892973013e9933e6f82393f56dfa94a = L.geoJson(null, {\n",
       "                onEachFeature: geo_json_4892973013e9933e6f82393f56dfa94a_onEachFeature,\n",
       "            \n",
       "                style: geo_json_4892973013e9933e6f82393f56dfa94a_styler,\n",
       "                pointToLayer: geo_json_4892973013e9933e6f82393f56dfa94a_pointToLayer,\n",
       "        });\n",
       "\n",
       "        function geo_json_4892973013e9933e6f82393f56dfa94a_add (data) {\n",
       "            geo_json_4892973013e9933e6f82393f56dfa94a\n",
       "                .addData(data);\n",
       "        }\n",
       "            geo_json_4892973013e9933e6f82393f56dfa94a_add({&quot;bbox&quot;: [24.9379961, 60.1658562, 24.9379961, 60.1658562], &quot;features&quot;: [{&quot;bbox&quot;: [24.9379961, 60.1658562, 24.9379961, 60.1658562], &quot;geometry&quot;: {&quot;coordinates&quot;: [24.9379961, 60.1658562], &quot;type&quot;: &quot;Point&quot;}, &quot;id&quot;: &quot;0&quot;, &quot;properties&quot;: {&quot;__folium_color&quot;: &quot;red&quot;, &quot;id&quot;: 0, &quot;name&quot;: &quot;Helsinki Railway station&quot;}, &quot;type&quot;: &quot;Feature&quot;}], &quot;type&quot;: &quot;FeatureCollection&quot;});\n",
       "\n",
       "        \n",
       "    \n",
       "    geo_json_4892973013e9933e6f82393f56dfa94a.bindTooltip(\n",
       "    function(layer){\n",
       "    let div = L.DomUtil.create(&#x27;div&#x27;);\n",
       "    \n",
       "    let handleObject = feature=&gt;typeof(feature)==&#x27;object&#x27; ? JSON.stringify(feature) : feature;\n",
       "    let fields = [&quot;name&quot;, &quot;id&quot;];\n",
       "    let aliases = [&quot;name&quot;, &quot;id&quot;];\n",
       "    let table = &#x27;&lt;table&gt;&#x27; +\n",
       "        String(\n",
       "        fields.map(\n",
       "        (v,i)=&gt;\n",
       "        `&lt;tr&gt;\n",
       "            &lt;th&gt;${aliases[i]}&lt;/th&gt;\n",
       "            \n",
       "            &lt;td&gt;${handleObject(layer.feature.properties[v])}&lt;/td&gt;\n",
       "        &lt;/tr&gt;`).join(&#x27;&#x27;))\n",
       "    +&#x27;&lt;/table&gt;&#x27;;\n",
       "    div.innerHTML=table;\n",
       "    \n",
       "    return div\n",
       "    }\n",
       "    ,{&quot;className&quot;: &quot;foliumtooltip&quot;, &quot;sticky&quot;: true});\n",
       "                     \n",
       "    \n",
       "            geo_json_4892973013e9933e6f82393f56dfa94a.addTo(map_fa50f3bc4c6cc73b3701323fb813c140);\n",
       "        \n",
       "&lt;/script&gt;\n",
       "&lt;/html&gt;\" style=\"position:absolute;width:100%;height:100%;left:0;top:0;border:none !important;\" allowfullscreen webkitallowfullscreen mozallowfullscreen></iframe></div></div>"
      ],
      "text/plain": [
       "<folium.folium.Map at 0x26b1a578c10>"
      ]
     },
     "execution_count": 2,
     "metadata": {},
     "output_type": "execute_result"
    }
   ],
   "source": [
    "## Helsinki Central Location\n",
    "from shapely.geometry import Point \n",
    "import osmnx as ox\n",
    "import geopandas as gpd\n",
    "\n",
    "address = \"Stockmann - Helsinki, Finland\"\n",
    "address = \"Scandic Hub, Helsinki\"\n",
    "lat, lon = ox.geocode(address)\n",
    "\n",
    "# Create a GeoDataFrame out of the coordinates\n",
    "origin = gpd.GeoDataFrame({\"geometry\": [Point(lon, lat)], \"name\": \"Helsinki Railway station\", \"id\": [0]}, index=[0], crs=\"epsg:4326\")\n",
    "origin.explore(max_zoom=13, color=\"red\", marker_kwds={\"radius\": 12})"
   ]
  },
  {
   "cell_type": "markdown",
   "id": "5bda1382-3434-40ee-8a25-ad26a91a05e7",
   "metadata": {},
   "source": [
    "We select 30 neighboring hexagon cells from the center of Helsinki. "
   ]
  },
  {
   "cell_type": "code",
   "execution_count": 3,
   "id": "0b8dc319-e115-40d1-aca1-c4c403ac35ff",
   "metadata": {},
   "outputs": [
    {
     "ename": "AttributeError",
     "evalue": "module 'h3' has no attribute 'latlng_to_cell'",
     "output_type": "error",
     "traceback": [
      "\u001b[1;31m---------------------------------------------------------------------------\u001b[0m",
      "\u001b[1;31mAttributeError\u001b[0m                            Traceback (most recent call last)",
      "Cell \u001b[1;32mIn[3], line 11\u001b[0m\n\u001b[0;32m      8\u001b[0m ring_size \u001b[38;5;241m=\u001b[39m \u001b[38;5;241m6\u001b[39m\n\u001b[0;32m     10\u001b[0m \u001b[38;5;66;03m# Get the H3 hexagons covering the central Helsinki \u001b[39;00m\n\u001b[1;32m---> 11\u001b[0m center_h3 \u001b[38;5;241m=\u001b[39m \u001b[43mh3\u001b[49m\u001b[38;5;241;43m.\u001b[39;49m\u001b[43mlatlng_to_cell\u001b[49m(lat, lon, resolution)\n\u001b[0;32m     12\u001b[0m hexagons \u001b[38;5;241m=\u001b[39m \u001b[38;5;28mlist\u001b[39m(h3\u001b[38;5;241m.\u001b[39mgrid_disk(center_h3, ring_size))  \u001b[38;5;66;03m# Convert the set to a list\u001b[39;00m\n\u001b[0;32m     13\u001b[0m \u001b[38;5;66;03m##hexagons = list(h3.grid_ring(center_h3, ring_size))  ## Check with henrikki! \u001b[39;00m\n\u001b[0;32m     14\u001b[0m \u001b[38;5;66;03m##hexagons = ['891126d33d7ffff','891126d148bffff','891126d3213ffff','891126d33c7ffff','891126d33d3ffff','891126d3223ffff','891126d3357ffff','891126d3383ffff','891126d3377ffff','891126d33afffff','891126d314bffff',\u001b[39;00m\n\u001b[0;32m     15\u001b[0m \u001b[38;5;66;03m##'891126d302fffff','891126d3077ffff','891126d3047ffff','891126d32b3ffff','891126d301bffff']\u001b[39;00m\n\u001b[0;32m     16\u001b[0m \u001b[38;5;66;03m##hexagons\u001b[39;00m\n",
      "\u001b[1;31mAttributeError\u001b[0m: module 'h3' has no attribute 'latlng_to_cell'"
     ]
    }
   ],
   "source": [
    "import shapely\n",
    "import h3\n",
    "import matplotlib.pyplot as plt\n",
    "# h3 hexagons are to be created at a specified resolution from 1-10\n",
    "resolution = 9\n",
    "\n",
    "# We can indicate the number of hexagonal rings around the central hexagon\n",
    "ring_size = 6\n",
    "\n",
    "# Get the H3 hexagons covering the central Helsinki \n",
    "center_h3 = h3.latlng_to_cell(lat, lon, resolution)\n",
    "hexagons = list(h3.grid_disk(center_h3, ring_size))  # Convert the set to a list\n",
    "##hexagons = list(h3.grid_ring(center_h3, ring_size))  ## Check with henrikki! \n",
    "##hexagons = ['891126d33d7ffff','891126d148bffff','891126d3213ffff','891126d33c7ffff','891126d33d3ffff','891126d3223ffff','891126d3357ffff','891126d3383ffff','891126d3377ffff','891126d33afffff','891126d314bffff',\n",
    "##'891126d302fffff','891126d3077ffff','891126d3047ffff','891126d32b3ffff','891126d301bffff']\n",
    "##hexagons"
   ]
  },
  {
   "cell_type": "code",
   "execution_count": null,
   "id": "dd040748-31a9-4029-bbd8-e8a142b820bd",
   "metadata": {},
   "outputs": [],
   "source": [
    "# Create a GeoDataFrame with hexagons and their corresponding geometries\n",
    "hexagon_geometries = [shapely.geometry.Polygon(h3.cell_to_boundary(hexagon)) for hexagon in hexagons]\n",
    "#hexagon_geometries = [h3.cell_to_boundary(hexagon) for hexagon in hexagons]\n",
    "##hexagon_geometries[0]\n",
    "\n",
    "#h3.cells_to_multi_polygon(hexagons[0], geo_json=False)\n",
    "hexagon_df = gpd.GeoDataFrame({'Hexagon_ID': hexagons, 'geometry': hexagon_geometries},crs=\"epsg:4326\")\n",
    "hexagon_df.explore()"
   ]
  },
  {
   "cell_type": "code",
   "execution_count": null,
   "id": "15dbfef0-1db8-4def-972f-ac7b7f7710da",
   "metadata": {},
   "outputs": [],
   "source": [
    "h3.versions()\n",
    "l = list(h3.cell_to_boundary(str(hexagons[0])))\n",
    "lr = [(p[1],p[0]) for p in l]\n",
    "polygon =shapely.geometry.Polygon(lr) ## list(h3.cell_to_boundary(hexagons[0]))) #str(hexagons[0])\n",
    "hexagon_df = gpd.GeoDataFrame({'Hexagon_ID': hexagons[0], 'geometry': polygon},index=[0],crs=\"epsg:4326\") ## \n",
    "hexagon_df.explore() "
   ]
  },
  {
   "cell_type": "code",
   "execution_count": null,
   "id": "97bcf1bc-bff4-41e9-b51c-051838368a79",
   "metadata": {},
   "outputs": [],
   "source": [
    "# Create a GeoDataFrame with hexagons and their corresponding geometries\n",
    "## We need to revrse the (lat, lon) for h3 V4. It is a beta (unstable) release,\n",
    "## h3 V4 also has issues with returning geo_json=True in the h3.cell_to_boundary() function\n",
    "list_h3_coords = [h3.cell_to_boundary(hexagon) for hexagon in hexagons]\n",
    "## reversing each lat,lon pair in the list\n",
    "hexagon_geometries_r = [shapely.geometry.Polygon((p[1],p[0]) for p in h_list) for h_list in list_h3_coords]\n",
    "#hexagon_geometries = [shapely.geometry.Polygon() for hexagon in hexagons]\n",
    "hexagon_geometries_r \n",
    "hexagon_df = gpd.GeoDataFrame({'Hexagon_ID': hexagons, 'geometry': hexagon_geometries_r},crs=\"epsg:4326\")\n",
    "hexagon_df.explore()"
   ]
  },
  {
   "cell_type": "code",
   "execution_count": null,
   "id": "9896262d-e2ec-437d-ba78-f7d8c781bb4e",
   "metadata": {},
   "outputs": [],
   "source": [
    "#hexagon_df.head()\n",
    "h3.cell_to_latlng('891126d06d7ffff')##.explore()\n",
    "\n",
    "orig_y, orig_x = 60.16874416, 24.95721918 \n",
    "# Destination\n",
    "dest_y, dest_x =   60.1622494, 24.9082137 \n",
    "h3.latlng_to_cell(dest_y, dest_x ,9)\n",
    "#h3.latlng_to_cell(orig_y, orig_x,9)"
   ]
  },
  {
   "cell_type": "code",
   "execution_count": null,
   "id": "11320c81-50cb-4018-8632-81dad9394c83",
   "metadata": {},
   "outputs": [],
   "source": [
    "h3.latlng_to_cell(orig_y, orig_x,9)"
   ]
  },
  {
   "cell_type": "code",
   "execution_count": null,
   "id": "8d783fe9-2e46-4f2e-a220-3944a5ea1050",
   "metadata": {},
   "outputs": [],
   "source": [
    "## Create a column of centroids and make them as point geometry\n",
    "hexagon_df[\"H3_centroids\"] = hexagon_df.Hexagon_ID.apply(lambda x: Point(h3.cell_to_latlng(str(x))))\n",
    "hexagon_df.head()\n",
    "#hexagon_df.explore()"
   ]
  },
  {
   "cell_type": "code",
   "execution_count": null,
   "id": "0da9f8af-5294-46e6-aa5a-3b22a57fb989",
   "metadata": {},
   "outputs": [],
   "source": [
    "hexagon_df.to_csv(\"data/Helsinki_Hexagons_with_Centroids_6Rings_9Res.csv\",header=True)"
   ]
  },
  {
   "cell_type": "code",
   "execution_count": null,
   "id": "66fa92cf-74fd-45e5-afbb-76811c0e4260",
   "metadata": {},
   "outputs": [],
   "source": [
    "from itertools import combinations, permutations\n",
    "import pandas as pd\n",
    "\n",
    "col_combs = list(combinations(hexagon_df.Hexagon_ID, 2))\n",
    "col_combs = list(permutations(hexagon_df.Hexagon_ID, 2))\n",
    "\n",
    "hexagon_OD_df = pd.DataFrame(col_combs,columns = [['Origin_Hexagon_ID','Destination_Hexagon_ID']])\n",
    "hexagon_OD_df['Origin_Centroid_Lat'] = hexagon_OD_df.apply(lambda x: h3.cell_to_latlng(str(x.Origin_Hexagon_ID))[0],axis=1)\n",
    "hexagon_OD_df['Origin_Centroid_Lon'] = hexagon_OD_df.apply(lambda x: h3.cell_to_latlng(str(x.Origin_Hexagon_ID))[1],axis=1)\n",
    "hexagon_OD_df['Destination_Centroid_Lat'] =  hexagon_OD_df.apply(lambda x: h3.cell_to_latlng(str(x.Destination_Hexagon_ID))[0],axis=1)\n",
    "hexagon_OD_df['Destination_Centroid_Lon'] = hexagon_OD_df.apply(lambda x: h3.cell_to_latlng(str(x.Destination_Hexagon_ID))[1],axis=1)\n",
    "hexagon_OD_df.head()"
   ]
  },
  {
   "cell_type": "code",
   "execution_count": null,
   "id": "902b9a31-cb2e-48c5-ad90-4053fff3fba1",
   "metadata": {},
   "outputs": [],
   "source": [
    "hexagon_OD_df.to_csv(\"data/Helsinki_OD_Hexagons_with_LatLon_6Rings_9Res.csv\",header=True)\n",
    "## Origin Hex ID - 891126d3073ffff (Res 9)\n",
    "## Destination Hex ID - 891126d3377ffff (Res 9)\n",
    "###id_cen_dict = hexagon_df[['Hexagon_ID','H3_centroids']].set_index('Hexagon_ID').to_dict('index')\n",
    "##id_cen_dict['891126d3327ffff']['H3_centroids']\n",
    "###hexagon_OD_df['Origin_Centroid'] = hexagon_OD_df.apply(lambda x:id_cen_dict[x.Origin_Hexagon_ID]['H3_centroids'],axis=1)\n",
    "##hexagon_OD_df['Destination_Centroid'] = hexagon_OD_df.apply(lambda x:id_cen_dict[x.Destination_Hexagon_ID]['H3_centroids'],axis=1)\n",
    "###hexagon_OD_df.head()\n",
    "###hexagon_OD_df['Origin_Centroid_Lat']= hexagon_OD_df.Origin_Centroid.apply(lambda x: x.y)\n",
    "#, hexagon_OD_df.Origin_Centroid.apply(lambda x: x.x)\n",
    "###hexagon_OD_df['Destination_Centroid_Lat'], hexagon_OD_df['Destination_Centroid_Lon'] = hexagon_OD_df.Destination_Centroid.apply(lambda x: x.y), hexagon_OD_df.Destination_Centroid.apply(lambda x: x.x)\n",
    "##hexagon_df.H3_centroids.apply(lambda x: x.y)\n",
    "##hexagon_OD_df.head()"
   ]
  },
  {
   "cell_type": "markdown",
   "id": "53f09b06-10fc-454b-9358-97acebe8f748",
   "metadata": {},
   "source": [
    "## Load and prepare the origin and destination data\n",
    "We will use a pair of these hexagons as origin and destinations to understand travel patterns of commuters and Green House Gas (GHG) emissions of individual users due to different mode of transport. "
   ]
  },
  {
   "cell_type": "markdown",
   "id": "e0321251-4eec-4087-a908-e88718493fc9",
   "metadata": {},
   "source": [
    "### Locomizer data\n",
    "Let's start by understanding a sample of the Locomizer dataset into a pandas `DataFrame` that we can use as origin-destination hexagons that contain the number of users travelled in between. "
   ]
  },
  {
   "cell_type": "code",
   "execution_count": null,
   "id": "3a430295-cd05-4d44-af09-4aff1e61c693",
   "metadata": {},
   "outputs": [],
   "source": [
    "import glob\n",
    "import pandas as pd\n",
    "\n",
    "LocoFiles = glob.glob(r'data/Locomizer_data/*R9*.csv')\n",
    "LocoFiles"
   ]
  },
  {
   "cell_type": "code",
   "execution_count": null,
   "id": "3f1f3450-58a2-4935-a6f9-17f3fda98e62",
   "metadata": {},
   "outputs": [],
   "source": [
    "loco_df = pd.read_csv(LocoFiles[0],index_col=0)\n",
    "loco_df.head()"
   ]
  },
  {
   "cell_type": "markdown",
   "id": "017b20af",
   "metadata": {},
   "source": [
    "The `loco_df` GeoDataFrame contains a few columns, namely `ORIGIN_CODE_R9`, `DESTINATION_CODE_R9`,`DAY` `NUMBER_OF_USERS`, `EXTRAPOLATED_NUMBER_OF_USERS`. As we can see, there is no `geometry` column with the unique boundary values of the hexagons. The origin and destination hexagon `geometry` columns are required for defining the hexagonal boundaries to work. Hence we have to calculate the hexagon boundaries. "
   ]
  },
  {
   "cell_type": "markdown",
   "id": "922bbf6e-1db0-4748-83bb-a1254fb56afc",
   "metadata": {},
   "source": [
    "#### Calculating the Polygon boundary of the OD hexagons\n",
    "\n",
    "We can calculate the Polygon boundaries of the OD hexagon cells of the locomizer data for future use. We can do this by applying shapely.geometry function to all the origin and destination hex-codes and calculating the boundary of the Polygons. \n",
    "\n",
    "*Note: You can ignore the UserWarning raised by geopandas about the geographic CRS. The geography columns is accurate enough for most purposes.*"
   ]
  },
  {
   "cell_type": "code",
   "execution_count": null,
   "id": "d8a0c4be-f0dc-429a-bc8b-d51eb34dc624",
   "metadata": {},
   "outputs": [],
   "source": [
    "loco_df_all = pd.DataFrame()\n",
    "for filename in LocoFiles:\n",
    "    loco_df = pd.read_csv(filename,index_col=0)\n",
    "    loco_df[\"ORIGIN_boundary\"] = loco_df.ORIGIN_CODE_R9.apply(lambda x: shapely.geometry.Polygon((p[1],p[0]) for p in h3.cell_to_boundary(x))) # \n",
    "    loco_df[\"DESTINATION_boundary\"] = loco_df.DESTINATION_CODE_R9.apply(lambda x: shapely.geometry.Polygon((p[1],p[0]) for p in h3.cell_to_boundary(x))) \n",
    "    interval = filename.split(\".\")[0].split(\"_\")[-2]\n",
    "    loco_df[\"interval\"] = [interval]  * len(loco_df) \n",
    "    loco_df_all = pd.concat([loco_df_all,loco_df],ignore_index=True)"
   ]
  },
  {
   "cell_type": "code",
   "execution_count": null,
   "id": "e338ba96-7abc-4419-a76e-454627b45bf3",
   "metadata": {
    "scrolled": true
   },
   "outputs": [],
   "source": [
    "loco_df_all.to_csv(\"data/Locomizer_data/SDey_LocomizerOD_MayJune2023_R9.csv\")\n",
    "loco_df_all\n",
    "##shapely.geometry.Polygon(h3.cell_to_boundary(hexagon))\n",
    "##shapely.geometry.Polygon((p[1],p[0]) for p in h3.cell_to_boundary(hexagon))"
   ]
  },
  {
   "cell_type": "markdown",
   "id": "478f398a",
   "metadata": {},
   "source": [
    "\n",
    "### Exploring OD hexgons with locomizer data\n",
    "To get a better sense of the data map that shows the locations of the polygons and visualize the geographical boundary of each cell. We will begin with visualising origin hexgons with valid users in H3 hexagonal resolution 9.  \n",
    "\n"
   ]
  },
  {
   "cell_type": "code",
   "execution_count": null,
   "id": "f86d3691-2628-4bcf-8956-ec1372c0f26f",
   "metadata": {
    "scrolled": true
   },
   "outputs": [],
   "source": [
    "unique_origins = loco_df_all[[\"ORIGIN_CODE_R9\",\"ORIGIN_boundary\"]].drop_duplicates()\n",
    "loco_Origin_df = gpd.GeoDataFrame({'O_ID': unique_origins.ORIGIN_CODE_R9.to_list(), 'geometry': unique_origins.ORIGIN_boundary.to_list()},crs=\"epsg:4326\")\n",
    "loco_Origin_df.explore()"
   ]
  },
  {
   "cell_type": "code",
   "execution_count": null,
   "id": "044d8a6e-0114-426e-822c-dba626329941",
   "metadata": {},
   "outputs": [],
   "source": [
    "unique_destinations = loco_df_all[[\"DESTINATION_CODE_R9\",\"DESTINATION_boundary\"]].drop_duplicates()\n",
    "loco_Destination_df = gpd.GeoDataFrame({'D_ID': unique_destinations.DESTINATION_CODE_R9.to_list(), 'geometry': unique_destinations.DESTINATION_boundary.to_list()},crs=\"epsg:4326\")\n",
    "loco_Destination_df.explore()"
   ]
  },
  {
   "cell_type": "markdown",
   "id": "fd8517ed-b91d-4290-ad96-11298b975404",
   "metadata": {},
   "source": [
    "## Helsinki Regional Transport Authority (HSL) survey data\n",
    "The Helsinki Regional Transport Authority (Finnish: Helsingin seudun liikenne, HSL; Swedish: Helsingforsregionens trafik, HRT) is the inter-municipal body responsible for maintaining the public transportation network across the nine municipalities of Greater Helsinki, Finland.\n",
    "\n",
    "HSL oversees the operation of Helsinki's entire public transportation system, which includes local buses, trams, metro trains, ferries, commuter trains, and bikeshare services. According to an HSL survey on the number of trips, residents of the Helsinki region aged seven and above made a total of 4.6 million trips on a typical weekday in the fall of 2023. The detailed report can be found [here](data/lt23-kulkutapajakaumat-hsl-nettisivuille.pdf).\n",
    "\n",
    "Based on the modality of travel choice and different percentages of various weekday trips of residents of the Helsinki region in autumn 2023, the survey report contains the following ratio of travel mode share in the HSL-alue yhteensä (i.e. total HSL area):"
   ]
  },
  {
   "cell_type": "code",
   "execution_count": null,
   "id": "920dee20-d844-4373-8856-2b57705a323a",
   "metadata": {},
   "outputs": [],
   "source": [
    "Car_share_Hsl = 0.35 ## Henkilöauto\n",
    "PT_share_Hsl = 0.23 ## Joukkoliikenne\n",
    "Bike_share_Hsl = 0.08  ## Polkupyörä\n",
    "Walk_share_Hsl = 0.33  ## Kävely\n",
    "Other_share_Hsl = 0.01 ## Muu"
   ]
  },
  {
   "cell_type": "markdown",
   "id": "f3c44ac5-2ec6-4d9e-a5c4-7e4ad2c984bd",
   "metadata": {
    "jp-MarkdownHeadingCollapsed": true
   },
   "source": [
    "We will be using these data in the later part of the tutorial to split the travellers among OD hexgon pairs accordingly to calculate CO2 emissions. \n",
    "### any addition ? \n",
    "\n",
    "\n",
    "\n"
   ]
  },
  {
   "cell_type": "markdown",
   "id": "d79e0249",
   "metadata": {},
   "source": [
    "## Bibliography\n",
    "\n",
    ":::{bibliography}\n",
    ":filter: docname in docnames\n",
    ":::"
   ]
  }
 ],
 "metadata": {
  "jupytext": {
   "formats": "md:myst",
   "text_representation": {
    "extension": ".md",
    "format_name": "myst",
    "format_version": 0.13,
    "jupytext_version": "1.14.6"
   }
  },
  "kernelspec": {
   "display_name": "Python 3 (ipykernel)",
   "language": "python",
   "name": "python3"
  },
  "language_info": {
   "codemirror_mode": {
    "name": "ipython",
    "version": 3
   },
   "file_extension": ".py",
   "mimetype": "text/x-python",
   "name": "python",
   "nbconvert_exporter": "python",
   "pygments_lexer": "ipython3",
   "version": "3.11.7"
  },
  "source_map": [
   13,
   17,
   31,
   81,
   92,
   106,
   111,
   116,
   118,
   126,
   131,
   134,
   149,
   159,
   166,
   170,
   182,
   194,
   196,
   220,
   233,
   239,
   266,
   269,
   274,
   284
  ]
 },
 "nbformat": 4,
 "nbformat_minor": 5
}
