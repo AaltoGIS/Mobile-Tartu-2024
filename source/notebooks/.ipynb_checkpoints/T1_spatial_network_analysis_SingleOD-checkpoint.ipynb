{
 "cells": [
  {
   "cell_type": "markdown",
   "metadata": {},
   "source": [
    "# Tutorial 1 - Shortest path analysis for single OD pair using Networkx\n",
    "\n",
    "```{attention}\n",
    "Finnish university students are encouraged to use the CSC Notebooks platform.<br/>\n",
    "<a href=\"https://notebooks.csc.fi\"><img alt=\"CSC badge\" src=\"https://img.shields.io/badge/launch-CSC%20notebook-blue.svg\" style=\"vertical-align:text-bottom\"></a>\n",
    "\n",
    "Others can follow the lesson interactively using Binder. Check the rocket icon on the top of this page.\n",
    "```\n",
    "\n",
    "**Lesson objectives**\n",
    "\n",
    "This tutorial focuses on **spatial networks** and learn how to construct a routable **directed** graph for Networkx and find shortest paths along the given street network based on travel times or distance by car. In addition, we will learn how to calculate travel times from a single source into all nodes in the graph. \n",
    "\n",
    "## Introduction to Networkx\n",
    "\n",
    "In this tutorial we will focus on a network analysis methods that relate to way-finding. Finding a shortest path from A to B using a specific street network is a very common spatial analytics problem that has many practical applications.\n",
    "\n",
    "Python provides easy to use tools for conducting spatial network analysis.\n",
    "One of the easiest ways to start is to use a library\n",
    "called [Networkx](https://networkx.github.io/documentation/stable/)\n",
    "which is a Python module that provides a lot tools that can be used to\n",
    "analyze networks on various different ways. It also contains algorithms\n",
    "such as [Dijkstra’s\n",
    "algorithm](https://networkx.github.io/documentation/networkx-1.10/reference/generated/networkx.algorithms.shortest_paths.weighted.single_source_dijkstra.html#networkx.algorithms.shortest_paths.weighted.single_source_dijkstra)\n",
    "or [A\\*](https://networkx.github.io/documentation/networkx-1.10/reference/generated/networkx.algorithms.shortest_paths.astar.astar_path.html#networkx.algorithms.shortest_paths.astar.astar_path)\n",
    "algoritm that are commonly used to find shortest paths along\n",
    "transportation network."
   ]
  },
  {
   "cell_type": "markdown",
   "metadata": {},
   "source": [
    "## Data and Methodology\n",
    "In this part, we will learn how to do spatial network analysis in practice.\n",
    "\n",
    "### Typical workflow for routing\n",
    "\n",
    "If you want to conduct network analysis (in any programming language) there are a few basic steps that typically needs to be done before you can start routing. These steps are:\n",
    "\n",
    " 1. **Retrieve data** (such as street network from OSM or Digiroad + possibly transit data if routing with PT).\n",
    " 2. **Modify the network** by adding/calculating edge weights (such as travel times based on speed limit and length of the road segment).\n",
    " 3. **Build a routable graph** for the routing tool that you are using (e.g. for NetworkX, igraph or OpenTripPlanner).\n",
    " 4. **Conduct network analysis** (such as shortest path analysis) with the routing tool of your choice. "
   ]
  },
  {
   "cell_type": "markdown",
   "metadata": {},
   "source": [
    "### 1. Retrieve data\n",
    "\n",
    "As a first step, we need to obtain data for routing. [Pyrosm](https://pyrosm.readthedocs.io/en/latest/) library makes it really easy to retrieve routable networks from OpenStreetMap (OSM) with different transport modes (walking, cycling and driving). \n",
    "\n",
    "- Let's first extract OSM data for Helsinki that are walkable. In `pyrosm`, we can use a function called `osm.get_network()` which retrieves data from OpenStreetMap. It is possible to specify what kind of roads should be retrieved from OSM with `network_type` -parameter (supports `walking`, `cycling`, `driving`). \n"
   ]
  },
  {
   "cell_type": "code",
   "execution_count": null,
   "metadata": {},
   "outputs": [],
   "source": [
    "from pyrosm import OSM, get_data\n",
    "import geopandas as gpd\n",
    "import pandas as pd\n",
    "import networkx as nx\n",
    "\n",
    "# We will use test data for Helsinki that comes with pyrosm\n",
    "##osm = OSM(get_data(\"helsinki_pbf\"))\n",
    "osm = OSM(\"data/Helsinki_25April.osm.pbf\")\n",
    "\n",
    "# Parse roads that can be driven by car\n",
    "roads = osm.get_network(network_type=\"driving\")\n",
    "roads.plot(figsize=(10,10))"
   ]
  },
  {
   "cell_type": "code",
   "execution_count": null,
   "metadata": {},
   "outputs": [],
   "source": [
    "roads.head(2)"
   ]
  },
  {
   "cell_type": "markdown",
   "metadata": {},
   "source": [
    "Okay, now we have drivable roads as a GeoDataFrame for the city center of Helsinki. If you look at the GeoDataFrame (scroll to the right), we can see that `pyrosm` has also calculated us the `length` of each road segment (presented in meters). The geometries are presented here as `MultiLineString` objects. From the map above we can see that the data also includes short pieces of roads that do not lead to anywhere (i.e. they are *isolated*). This is a typical issue when working with real-world data such as roads. Hence, at some point we need to take care of those in someway (remove them (typical solution), or connect them to other parts of the network). \n",
    "\n",
    "In OSM, the information about the allowed direction of movement is stored in column `oneway`. Let's take a look what kind of values we have in that column:"
   ]
  },
  {
   "cell_type": "code",
   "execution_count": null,
   "metadata": {},
   "outputs": [],
   "source": [
    "roads[\"oneway\"].unique()"
   ]
  },
  {
   "cell_type": "markdown",
   "metadata": {},
   "source": [
    "As we can see the unique values in that column are `\"yes\"`, `\"no\"` or `None`. We can use this information to construct a `directed` graph for routing by car. For walking and cycling, you typically want create a `bidirectional` graph, because the travel is typically allowed in both directions at least in Finland. Notice, that the rules vary by country, e.g. in Copenhagen you have oneway rules also for bikes but typically each road have the possibility to travel both directions (you just need to change the side of the road if you want to make a U-turn). Column `maxspeed` contains information about the speed limit for given road:"
   ]
  },
  {
   "cell_type": "code",
   "execution_count": null,
   "metadata": {},
   "outputs": [],
   "source": [
    "roads[\"maxspeed\"].unique()"
   ]
  },
  {
   "cell_type": "markdown",
   "metadata": {},
   "source": [
    "As we can see, there are also `None` values in the data, meaning that the speed limit has not been tagged for some roads. This is typical, and often you need to fill the non existing speed limits yourself. This can be done by taking advantage of the road class that is always present in column `highway`:"
   ]
  },
  {
   "cell_type": "code",
   "execution_count": null,
   "metadata": {},
   "outputs": [],
   "source": [
    "roads[\"highway\"].unique()"
   ]
  },
  {
   "cell_type": "markdown",
   "metadata": {},
   "source": [
    "Based on these values, we can make assumptions that e.g. `residential` roads in Helsinki have a speed limit of 30 kmph. Hence, this information can be used to fill the missing values in `maxspeed`. As we can see, the current version of the `pyrosm` tool seem to have a bug because some non-drivable roads were also leaked to our network (e.g. `footway`, `cycleway`). If you notice these kind of issues with any of the libraries that you use, please notify the developers by raising an Issue in GitHub. This way, you can help improving the software. For this given problem, an [issue has already been raised](https://github.com/HTenkanen/pyrosm/issues/108) so you don't need to do it again (it's always good to check if a related issue exists in GitHub before adding a new one).  "
   ]
  },
  {
   "cell_type": "markdown",
   "metadata": {},
   "source": [
    "Okay, but how can we make a routable graph out of this data of ours? Let's remind us about the basic elements of a graph that we went through in the lecture slides:\n",
    "\n",
    "![Basic elements of a graph](img/graph_elements.png)\n",
    "\n",
    "So to be able to create a graph we need to have **nodes** and **edges**. Now we have a GeoDataFrame of edges, but where are those nodes? Well they are not yet anywhere, but with `pyrosm` we can easily retrieve the nodes as well by specifying `nodes=True`, when parsing the streets:"
   ]
  },
  {
   "cell_type": "code",
   "execution_count": null,
   "metadata": {},
   "outputs": [],
   "source": [
    "# Parse nodes and edges\n",
    "nodes, edges = osm.get_network(network_type=\"driving\", nodes=True)\n",
    "\n",
    "# Plot the data\n",
    "ax = edges.plot(figsize=(15,15), color=\"gray\", lw=1.0)\n",
    "ax = nodes.plot(ax=ax, color=\"red\", markersize=3)\n",
    "\n",
    "# Zoom in to take a closer look\n",
    "ax.set_xlim([24.93, 24.945])\n",
    "ax.set_ylim([60.165, 60.17])"
   ]
  },
  {
   "cell_type": "markdown",
   "metadata": {},
   "source": [
    "Okay, as we can see now we have both the roads (i.e. *edges*) and the nodes that connect the street elements together (in red) that are typically intersections. However, we can see that many of the nodes are in locations that are clearly not intersections. This is intented behavior to ensure that we have full **connectivity** in our network. We can at later stage clean and simplify this network by merging all roads that belong to the same link (i.e. street elements that are between two intersections) which also reduces the size of the network. \n",
    "\n",
    "```{note} \n",
    "\n",
    "In OSM, the street topology is typically not directly suitable for graph traversal due to missing nodes at intersections which means that the roads are not splitted at those locations. The consequence of this, is that it is not possible to make a turn if there is no intersection present in the data structure. Hence, `pyrosm` will separate all road segments/geometries into individual rows in the data. \n",
    "```"
   ]
  },
  {
   "cell_type": "markdown",
   "metadata": {},
   "source": [
    "Let's take a look what our nodes data look like:"
   ]
  },
  {
   "cell_type": "code",
   "execution_count": null,
   "metadata": {},
   "outputs": [],
   "source": [
    "nodes.head()"
   ]
  },
  {
   "cell_type": "markdown",
   "metadata": {},
   "source": [
    "As we can see, the `nodes` GeoDataFrame contains information about the coordinates of each node as well as a unique `id` for each node. These `id` values are used to determine the connectivity in our network. Hence, `pyrosm` has also added two columns to the `edges` GeoDataFrame that specify **from** and **to** ids for each edge. Column `u` contains information about the **from-id** and column `v` about the **to-id** accordingly:"
   ]
  },
  {
   "cell_type": "code",
   "execution_count": null,
   "metadata": {},
   "outputs": [],
   "source": [
    "# Check last four columns\n",
    "edges.iloc[:5,-4:]"
   ]
  },
  {
   "cell_type": "markdown",
   "metadata": {},
   "source": [
    "We can see that the geometries are now stored as `LineString` instead of `MultiLineString`. At this point, we can fix the issue related to having some pedestrian roads in our network. We can do this by removing all edges from out GeoDataFrame that have `highway` value in `'cycleway', 'footway', 'pedestrian', 'trail', 'crossing'`:"
   ]
  },
  {
   "cell_type": "code",
   "execution_count": null,
   "metadata": {},
   "outputs": [],
   "source": [
    "edges = edges.loc[~edges[\"highway\"].isin(['cycleway', 'footway', 'pedestrian', 'trail', 'crossing'])].copy()\n",
    "edges.plot()"
   ]
  },
  {
   "cell_type": "markdown",
   "metadata": {},
   "source": [
    "Now we can see, that some of the isolated edges were removed from the data. The character `~` (tilde) in the command above is a *negation* operator that is handy if you want to e.g. remove some rows from your GeoDataFrame based on criteria such as we used here.  "
   ]
  },
  {
   "cell_type": "markdown",
   "metadata": {},
   "source": [
    "## 2. Modify the data\n",
    "\n",
    "At this stage, we have the necessary components to build a routable graph (nodes and edges) based on distance. However, in real life the network distance is not the best cost metric to use, because the shortest path (based on distance) is not necessarily always the optimal route in terms of **travel time**. Time is typically the measure that people value more (plus it is easier to comprehend), so at this stage we want to **add a new cost attribute** to our edges GeoDataFrame that converts the metric distance information to travel time (in seconds) based on following formula:\n",
    "\n",
    " - `<distance-in-meters> / (<speed-limit-kmph> / 3.6)`\n",
    " \n",
    "Before we can do this calculation, we need to ensure that all rows in `maxspeed` column have information about the speed limit. Let's check the value counts of the column and also include information about the `NaN` values with `dropna` parameter:"
   ]
  },
  {
   "cell_type": "code",
   "execution_count": null,
   "metadata": {},
   "outputs": [],
   "source": [
    "# Count values\n",
    "edges[\"maxspeed\"].value_counts(dropna=False)"
   ]
  },
  {
   "cell_type": "markdown",
   "metadata": {},
   "source": [
    "As we can see, the rows which do not contain information about the speed limit is the second largest group in our data. Hence, we need to apply a criteria to fill these gaps. We can do this based on following \"rule of thumb\" criteria in Finland (notice that these vary country by country):\n",
    "\n",
    "| Road class           | Speed limit within urban region | Speed limit outside urban region |\n",
    "|----------------------|---------------------------------|----------------------------------|\n",
    "| motorway             | 100                             | 120                              |\n",
    "| motorway_link        | 80                              | 80                               |\n",
    "| trunk                | 60                              | 100                              |\n",
    "| trunk_link           | 60                              | 60                               |\n",
    "| primary              | 50                              | 80                               |\n",
    "| primary_link         | 50                              | 50                               |\n",
    "| secondary            | 50                              | 50                               |\n",
    "| secondary_link       | 50                              | 50                               |\n",
    "| tertiary             | 50                              | 60                               |\n",
    "| tertiary_link        | 50                              | 50                               |\n",
    "| unclassified         | 50                              | 80                               |\n",
    "| unclassified_link    | 50                              | 50                               |\n",
    "| residential          | 50                              | 80                               |\n",
    "| living_street        | 20                              | NA                               |\n",
    "| service              | 30                              | NA                               |\n",
    "| other                | 50                              | 80                               |\n",
    "\n",
    "For simplicity, we can consider that all the roads in Helsinki Region follows the *within urban region* speed limits, although this is not exactly true (the higher speed limits start somewhere at the outer parts of the city region). For making the speed limit values more robust / correct, you could use data about urban/rural classification which is available in Finland from [Finnish Environment Institute](https://www.avoindata.fi/data/fi/dataset/kaupunki-maaseutu-luokitus-ykr). Let's first convert our `maxspeed` values to integers using `astype()` method:"
   ]
  },
  {
   "cell_type": "code",
   "execution_count": null,
   "metadata": {},
   "outputs": [],
   "source": [
    "edges[\"maxspeed\"] = edges[\"maxspeed\"].astype(float).astype(pd.Int64Dtype())\n",
    "edges[\"maxspeed\"].unique()"
   ]
  },
  {
   "cell_type": "markdown",
   "metadata": {},
   "source": [
    "As we can see, now the maxspeed values are stored in integer format inside an `IntegerArray`, and the `None` values were converted into `pandas.NA` objects that are assigned with `<NA>`. Now we can create a function that returns a numeric value for different road classes based on the criteria in the table above:"
   ]
  },
  {
   "cell_type": "code",
   "execution_count": null,
   "metadata": {},
   "outputs": [],
   "source": [
    "def road_class_to_kmph(road_class):\n",
    "    \"\"\"\n",
    "    Returns a speed limit value based on road class, \n",
    "    using typical Finnish speed limit values within urban regions.\n",
    "    \"\"\"\n",
    "    if road_class == \"motorway\":\n",
    "        return 100\n",
    "    elif road_class == \"motorway_link\":\n",
    "        return 80\n",
    "    elif road_class in [\"trunk\", \"trunk_link\"]:\n",
    "        return 60\n",
    "    elif road_class == \"service\":\n",
    "        return 30\n",
    "    elif road_class == \"living_street\":\n",
    "        return 20\n",
    "    else:\n",
    "        return 50"
   ]
  },
  {
   "cell_type": "markdown",
   "metadata": {},
   "source": [
    "Now we can apply this function to all rows that **do not have speed limit information**:"
   ]
  },
  {
   "cell_type": "code",
   "execution_count": null,
   "metadata": {},
   "outputs": [],
   "source": [
    "# Separate rows with / without speed limit information \n",
    "mask = edges[\"maxspeed\"].isnull()\n",
    "edges_without_maxspeed = edges.loc[mask].copy()\n",
    "edges_with_maxspeed = edges.loc[~mask].copy()\n",
    "\n",
    "# Apply the function and update the maxspeed\n",
    "edges_without_maxspeed[\"maxspeed\"] = edges_without_maxspeed[\"highway\"].apply(road_class_to_kmph)\n",
    "edges_without_maxspeed.head(5).loc[:, [\"maxspeed\", \"highway\"]]"
   ]
  },
  {
   "cell_type": "markdown",
   "metadata": {},
   "source": [
    "Okay, as we can see now the `maxspeed` value have been updated according our criteria, and e.g. the `service` road class have been given the speed limit 30 kmph. Now we can recreate the edges GeoDataFrame by combining the two frames: "
   ]
  },
  {
   "cell_type": "code",
   "execution_count": null,
   "metadata": {},
   "outputs": [],
   "source": [
    "edges = pd.concat([edges_with_maxspeed,edges_without_maxspeed])\n",
    "edges.head(-10).loc[:, [\"maxspeed\", \"highway\"]]\n",
    "edges[\"maxspeed\"].unique()"
   ]
  },
  {
   "cell_type": "code",
   "execution_count": null,
   "metadata": {},
   "outputs": [],
   "source": [
    "### Check this cell with Henrikki\n",
    "edges = edges_with_maxspeed.append(edges_without_maxspeed)\n",
    "edges[\"maxspeed\"].unique()"
   ]
  },
  {
   "cell_type": "markdown",
   "metadata": {},
   "source": [
    "Great, now all of our edges have information about the speed limit. We can also visualize them:"
   ]
  },
  {
   "cell_type": "code",
   "execution_count": null,
   "metadata": {},
   "outputs": [],
   "source": [
    "# Convert the value into regular integer Series (the plotting requires having Series instead of IntegerArray) \n",
    "edges[\"maxspeed\"] = edges[\"maxspeed\"].astype(int)\n",
    "ax = edges.plot(column=\"maxspeed\", figsize=(10,10), legend=True)"
   ]
  },
  {
   "cell_type": "markdown",
   "metadata": {},
   "source": [
    "Finally, we can calculate the travel time in seconds using the formula we saw earlier and add that as a new cost attribute for our network:"
   ]
  },
  {
   "cell_type": "code",
   "execution_count": null,
   "metadata": {},
   "outputs": [],
   "source": [
    "edges[\"travel_time_seconds\"] = edges[\"length\"] / (edges[\"maxspeed\"]/3.6)\n",
    "edges.iloc[0:10, -4:]"
   ]
  },
  {
   "cell_type": "markdown",
   "metadata": {},
   "source": [
    "Excellent! Now our GeoDataFrame has all the information we need for creating a graph that can be used to conduct shortest path analysis based on length or travel time. Notice that here we assume that the cars can drive with the same speed as what the speed limit is. Considering the urban dynamics and traffic congestion, this assumption might not hold, but for simplicity, we assume so in this tutorial. "
   ]
  },
  {
   "cell_type": "markdown",
   "metadata": {
    "tags": []
   },
   "source": [
    "## 3. Build a directed graph for routing using pyrosm\n",
    "\n",
    "Now as we have calculated the travel time for our edges. We still need to convert our nodes and edges into a directed graph, so that we can start using it for routing. There are easy-to-use functionalities for doing this in `pyrosm` and `osmnx`. \n",
    "\n",
    "As a background information, it is good to understand that our edges represents a `directed` network. This means that the information stored in `oneway` column will be used to determine the network structure for the edges based on the rules in that column. If the `oneway` is `'yes'`, it means that the street can be driven only to one direction, and if it is `None` or has a value `\"no\"`, then that road can be driven to both directions. This means that the tool will make new duplicate edge and reversing the from-id and to-id values in the `u` and `v` columns in the data. In addition, value `-1` in the `oneway` column means that the road can only be driven to one direction but **against** the digitization direction. In such cases, the edge is flipped: the *to-id* (`u`) and *from-id* (`u`) is reversed so that the directionality in the graph is correctly specified. "
   ]
  },
  {
   "cell_type": "markdown",
   "metadata": {},
   "source": [
    "- Let's see how we can create a routable NetworkX graph using `pyrosm` with one command:"
   ]
  },
  {
   "cell_type": "code",
   "execution_count": null,
   "metadata": {},
   "outputs": [],
   "source": [
    "G = osm.to_graph(nodes, edges, graph_type=\"networkx\")\n",
    "G"
   ]
  },
  {
   "cell_type": "markdown",
   "metadata": {},
   "source": [
    "Now we have a routable graph. `pyrosm` actually does some additional steps in the background. By default, `pyrosm` cleans all **unconnected** edges from the graph and only keeps edges that can be reached from every part of the network. In addition, `pyrosm` automatically modifies the graph attribute information in a way that they are compatible with `OSMnx` that provides many handy functionalities to work with graphs. Such as plotting an interactive map based on the graph:"
   ]
  },
  {
   "cell_type": "code",
   "execution_count": null,
   "metadata": {},
   "outputs": [],
   "source": [
    "import osmnx as ox \n",
    "### Check due to depreciation warning on 25 April\n",
    "##ox.plot_graph_folium(G)"
   ]
  },
  {
   "cell_type": "code",
   "execution_count": null,
   "metadata": {},
   "outputs": [],
   "source": [
    "### Added due to depreciation warning on 25 April\n",
    "ox.graph_to_gdfs(G, nodes=False).explore()"
   ]
  },
  {
   "cell_type": "markdown",
   "metadata": {},
   "source": [
    "## 4. Routing with NetworkX\n",
    "\n",
    "Now we have everything we need to start routing with NetworkX (based on driving distance or travel time). But first, let's again go through some basics about routing.\n",
    "\n",
    "### Basic logic in routing\n",
    "\n",
    "Most (if not all) routing algorithms work more or less in a similar manner. The basic steps for finding an optimal route from A to B, is to:\n",
    " 1. Find the nearest node for origin location \\* (+ get info about its node-id and distance between origin and node)\n",
    " 2. Find the nearest node for destination location \\* (+ get info about its node-id and distance between origin and node)\n",
    " 3. Use a routing algorithm to find the shortest path between A and B\n",
    " 4. Retrieve edge attributes for the given route(s) and summarize them (can be distance, time, CO2, or whatever)\n",
    " \n",
    "\\* in more advanced implementations you might search for the closest edge\n",
    "\n",
    "This same logic should be applied always when searching for an optimal route between a single origin to a single destination, or when calculating one-to-many -type of routing queries (producing e.g. travel time matrices). "
   ]
  },
  {
   "cell_type": "markdown",
   "metadata": {},
   "source": [
    "## Find the optimal route between two locations\n",
    "\n",
    "Next, we will learn how to find the shortest path between two locations using [Dijkstra's](https://en.wikipedia.org/wiki/Dijkstra%27s_algorithm) algorithm.\n",
    "\n",
    "First, let's find the closest nodes for two locations that are located in the area. OSMnx provides a handly function for geocoding an address `ox.geocode()`. We can use that to retrieve the x and y coordinates of our origin and destination."
   ]
  },
  {
   "cell_type": "code",
   "execution_count": null,
   "metadata": {},
   "outputs": [],
   "source": [
    "# OSM data is in WGS84 so typically we need to use lat/lon coordinates when searching for the closest node\n",
    "\n",
    "# Origin\n",
    "orig_address = \"Simonkatu 3, Helsinki\"\n",
    "orig_y, orig_x = ox.geocode(orig_address)  # notice the coordinate order (y, x)!\n",
    "orig_y, orig_x = 60.16874416, 24.95721918\n",
    "\n",
    "# Destination\n",
    "dest_address = \"Unioninkatu 33, Helsinki\"\n",
    "dest_y, dest_x = ox.geocode(dest_address) \n",
    "dest_y, dest_x = 60.16872763, 24.92119326\n",
    "\n",
    "print(\"Origin coords:\", orig_x, orig_y)\n",
    "print(\"Destination coords:\", dest_x, dest_y)\n",
    "## Origins -   60.16874416\t24.95721918\n",
    "## Destinations - 60.16872763\t24.92119326\n"
   ]
  },
  {
   "cell_type": "markdown",
   "metadata": {},
   "source": [
    "Okay, now we have coordinates for our origin and destination.\n",
    "\n",
    "### Find the nearest nodes\n",
    "\n",
    "Next, we need to find the closest nodes from the graph for both of our locations. For calculating the closest point we use `ox.distance.nearest_nodes()` -function and specify `return_dist=True` to get the distance in meters."
   ]
  },
  {
   "cell_type": "code",
   "execution_count": null,
   "metadata": {},
   "outputs": [],
   "source": [
    "# 1. Find the closest nodes for origin and destination\n",
    "orig_node_id, dist_to_orig = ox.distance.nearest_nodes(G, X=orig_x, Y=orig_y, return_dist=True)\n",
    "dest_node_id, dist_to_dest = ox.distance.nearest_nodes(G, X=dest_x, Y=dest_y, return_dist=True)\n",
    "\n",
    "print(\"Origin node-id:\", orig_node_id, \"and distance:\", dist_to_orig, \"meters.\")\n",
    "print(\"Destination node-id:\", dest_node_id, \"and distance:\", dist_to_dest, \"meters.\")"
   ]
  },
  {
   "cell_type": "markdown",
   "metadata": {},
   "source": [
    "Now we are ready to start the actual routing with NetworkX. "
   ]
  },
  {
   "cell_type": "markdown",
   "metadata": {},
   "source": [
    "### Find the fastest route by distance / time\n",
    "\n",
    "Now we can do the routing and find the shortest path between the origin and target locations\n",
    "by using the `dijkstra_path()` function of NetworkX. For getting only the cumulative cost of the trip, we can directly use a function `dijkstra_path_length()` that returns the travel time without the actual path. \n",
    "\n",
    "With `weight` -parameter we can specify the attribute that we want to use as cost/impedance. We have now three possible weight attributes available: `'length'` and `'travel_time_seconds'`.    \n",
    "\n",
    "- Let's first calculate the routes between locations by walking and cycling, and also retrieve the travel times"
   ]
  },
  {
   "cell_type": "code",
   "execution_count": null,
   "metadata": {},
   "outputs": [],
   "source": [
    "# Calculate the paths by walking and cycling\n",
    "metric_path = nx.dijkstra_path(G, source=orig_node_id, target=dest_node_id, weight='length')\n",
    "time_path = nx.dijkstra_path(G, source=orig_node_id, target=dest_node_id, weight='travel_time_seconds')\n",
    "\n",
    "# Get also the actual travel times (summarize)\n",
    "travel_length = nx.dijkstra_path_length(G, source=orig_node_id, target=dest_node_id, weight='length')\n",
    "travel_time = nx.dijkstra_path_length(G, source=orig_node_id, target=dest_node_id, weight='travel_time_seconds')"
   ]
  },
  {
   "cell_type": "markdown",
   "metadata": {},
   "source": [
    "Okay, that was it! Let's now see what we got as results by visualizing the results.\n",
    "\n",
    "For visualization purposes, we can use a handy function again from OSMnx called `ox.plot_graph_route()` (for static) or `ox.plot_route_folium()` (for interactive plot).\n",
    "\n",
    "- Let's first make static maps"
   ]
  },
  {
   "cell_type": "code",
   "execution_count": null,
   "metadata": {},
   "outputs": [],
   "source": [
    "# Shortest path based on distance\n",
    "fig, ax = ox.plot_graph_route(G, metric_path)\n",
    "\n",
    "# Add the travel time as title\n",
    "ax.set_xlabel(\"Shortest path distance {t: .1f} meters.\".format(t=travel_length))"
   ]
  },
  {
   "cell_type": "code",
   "execution_count": null,
   "metadata": {},
   "outputs": [],
   "source": [
    "fig, ax = ox.plot_graph_route(G, time_path)\n",
    "\n",
    "# Add the travel time as title\n",
    "ax.set_xlabel(\"Travel time {t: .1f} minutes.\".format(t=travel_time/60))"
   ]
  },
  {
   "cell_type": "markdown",
   "metadata": {},
   "source": [
    "Great! Now we have successfully found the optimal route between our origin and destination and we also have estimates about the travel time that it takes to travel between the locations by walking and cycling. As we can see, the route for both travel modes is exactly the same which is natural, as the only thing that changed here was the constant travel speed.\n",
    "\n",
    "- Let's still finally see an example how you can plot a nice interactive map out of our results with OSMnx:"
   ]
  },
  {
   "cell_type": "code",
   "execution_count": null,
   "metadata": {},
   "outputs": [],
   "source": [
    "ox.plot_route_folium(G, time_path, popup_attribute='travel_time_seconds')"
   ]
  },
  {
   "cell_type": "code",
   "execution_count": null,
   "metadata": {},
   "outputs": [],
   "source": []
  }
 ],
 "metadata": {
  "kernelspec": {
   "display_name": "Python 3 (ipykernel)",
   "language": "python",
   "name": "python3"
  },
  "language_info": {
   "codemirror_mode": {
    "name": "ipython",
    "version": 3
   },
   "file_extension": ".py",
   "mimetype": "text/x-python",
   "name": "python",
   "nbconvert_exporter": "python",
   "pygments_lexer": "ipython3",
   "version": "3.11.7"
  }
 },
 "nbformat": 4,
 "nbformat_minor": 4
}
