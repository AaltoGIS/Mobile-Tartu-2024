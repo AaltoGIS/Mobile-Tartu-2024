{
 "cells": [
  {
   "cell_type": "raw",
   "id": "490f6d77-4fa0-4ef3-9a4d-8a8244eeec5c",
   "metadata": {},
   "source": [
    "# Introduction to the locomizer data"
   ]
  },
  {
   "cell_type": "code",
   "execution_count": 1,
   "id": "a65c3683",
   "metadata": {
    "tags": [
     "remove-input",
     "remove-output"
    ]
   },
   "outputs": [],
   "source": [
    "# this cell is hidden from output\n",
    "# it’s used to set sys.path to point to the local repo,\n",
    "# and to define a `DATA_DIRECTORY` pathlib.Path\n",
    "import pathlib\n",
    "import sys\n",
    "\n",
    "NOTEBOOK_DIRECTORY = pathlib.Path().resolve()\n",
    "DOCS_DIRECTORY = NOTEBOOK_DIRECTORY.parent.parent\n",
    "DATA_DIRECTORY = DOCS_DIRECTORY / \"_static\" / \"data\"\n",
    "R5PY_DIRECTORY = DOCS_DIRECTORY.parent / \"src\"\n",
    "sys.path.insert(0, str(R5PY_DIRECTORY))"
   ]
  },
  {
   "cell_type": "markdown",
   "id": "81f04182",
   "metadata": {},
   "source": [
    "```{dropdown} What is a travel time matrix?\n",
    "   :open:\n",
    "   :color: light\n",
    "   :margin: 1 5 0 0\n",
    "\n",
    "\n",
    "    Here we provide a detail description of the Locomizer data. \n",
    "```\n",
    "\n",
    "\n",
    "\n",
    "## Load data: To modify from here\n",
    "\n",
    "As briefly visited in [Quickstart](quickstart) and dicussed in detail in [Data\n",
    "Requirements](data-requirements), fundamentally, two types of input data are\n",
    "required for computing a travel time matrix:\n",
    "\n",
    "- a transport network, and\n",
    "- a set of origins and destinations\n",
    "\n",
    "In the example below, we first create a\n",
    "{class}`TransportNetwork<r5py.TransportNetwork>`. To do so, we load an\n",
    "OpenStreetMap extract of the São Paulo city centre as well as a public transport\n",
    "schedule in GTFS format covering the same area:"
   ]
  },
  {
   "cell_type": "markdown",
   "id": "478f398a",
   "metadata": {},
   "source": [
    "***\n",
    "\n",
    "\n",
    "## Explore results\n",
    "\n",
    "### Description of the initial results to obtain from the data\n",
    "\n"
   ]
  },
  {
   "cell_type": "markdown",
   "id": "d79e0249",
   "metadata": {},
   "source": [
    "## Bibliography\n",
    "\n",
    ":::{bibliography}\n",
    ":filter: docname in docnames\n",
    ":::"
   ]
  }
 ],
 "metadata": {
  "jupytext": {
   "formats": "md:myst",
   "text_representation": {
    "extension": ".md",
    "format_name": "myst",
    "format_version": 0.13,
    "jupytext_version": "1.14.6"
   }
  },
  "kernelspec": {
   "display_name": "Python 3 (ipykernel)",
   "language": "python",
   "name": "python3"
  },
  "language_info": {
   "codemirror_mode": {
    "name": "ipython",
    "version": 3
   },
   "file_extension": ".py",
   "mimetype": "text/x-python",
   "name": "python",
   "nbconvert_exporter": "python",
   "pygments_lexer": "ipython3",
   "version": "3.11.7"
  },
  "source_map": [
   13,
   17,
   31,
   81,
   92,
   106,
   111,
   116,
   118,
   126,
   131,
   134,
   149,
   159,
   166,
   170,
   182,
   194,
   196,
   220,
   233,
   239,
   266,
   269,
   274,
   284
  ]
 },
 "nbformat": 4,
 "nbformat_minor": 5
}
